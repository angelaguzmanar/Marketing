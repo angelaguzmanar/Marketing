{
  "nbformat": 4,
  "nbformat_minor": 0,
  "metadata": {
    "colab": {
      "provenance": [],
      "authorship_tag": "ABX9TyO6qj9p1zMupeZMBeUHH6dX",
      "include_colab_link": true
    },
    "kernelspec": {
      "name": "python3",
      "display_name": "Python 3"
    },
    "language_info": {
      "name": "python"
    }
  },
  "cells": [
    {
      "cell_type": "markdown",
      "metadata": {
        "id": "view-in-github",
        "colab_type": "text"
      },
      "source": [
        "<a href=\"https://colab.research.google.com/github/angelaguzmanar/Marketing/blob/main/Despliegue_M.ipynb\" target=\"_parent\"><img src=\"https://colab.research.google.com/assets/colab-badge.svg\" alt=\"Open In Colab\"/></a>"
      ]
    },
    {
      "cell_type": "code",
      "source": [
        "import numpy as np\n",
        "import pandas as pd\n",
        "import sqlite3 as sql\n",
        "import openpyxl\n",
        "\n",
        "\n",
        "####Paquete para sistema basado en contenido ####\n",
        "from sklearn.preprocessing import MinMaxScaler\n",
        "from sklearn import neighbors"
      ],
      "metadata": {
        "id": "oV517aXDAAE_"
      },
      "execution_count": 2,
      "outputs": []
    },
    {
      "cell_type": "code",
      "source": [
        "#conectamos con Google Drive\n",
        "from google.colab import drive\n",
        "drive.mount('/content/drive')"
      ],
      "metadata": {
        "id": "yDwgRXC2AHcV",
        "colab": {
          "base_uri": "https://localhost:8080/"
        },
        "outputId": "c4c0487f-f08b-49ab-cc7a-30b438f8c006"
      },
      "execution_count": 3,
      "outputs": [
        {
          "output_type": "stream",
          "name": "stdout",
          "text": [
            "Mounted at /content/drive\n"
          ]
        }
      ]
    },
    {
      "cell_type": "code",
      "source": [
        "  #### conectar_base_de_Datos#################\n",
        "conn=sql.connect('/content/drive/MyDrive/Analitica3/Entrega_Marketing/db_movies')\n",
        "cur=conn.cursor()\n",
        "\n",
        "#Convertir en df\n",
        "movies=pd.read_sql('select * from movies_final5', conn )\n",
        "ratings=pd.read_sql('select * from ratings_final5', conn)\n",
        "usuarios=pd.read_sql('select distinct (userId) as userId from ratings_final5',conn)\n",
        "df_movies=pd.read_sql('select * from df_movies', conn )\n",
        "df_moviesdum2=pd.read_sql('select * from df_moviesdum2', conn)\n"
      ],
      "metadata": {
        "id": "3j7qCFXRAyXg"
      },
      "execution_count": 4,
      "outputs": []
    },
    {
      "cell_type": "code",
      "execution_count": 5,
      "metadata": {
        "id": "a9mKQqIQ_2lE"
      },
      "outputs": [],
      "source": [
        "###############Basado en contenido todo lo visto por el usuario Knn#############################\n",
        "def recomendar(userId):\n",
        "\n",
        "    rating =pd.read_sql('select * from ratings_final5 where userId=:user',conn, params={'user':userId})\n",
        "    l_movies_r=rating['movieId'].to_numpy()\n",
        "    movies_r=df_moviesdum2[df_moviesdum2['movieId'].isin(l_movies_r)]\n",
        "    movies_r=movies_r.drop(columns=['movieId','title'])\n",
        "    movies_r[\"indice\"]=1\n",
        "    centroide=movies_r.groupby(\"indice\").mean()\n",
        "\n",
        "    movies_nr=df_moviesdum2[~df_moviesdum2['movieId'].isin(l_movies_r)]\n",
        "    movies_nr=movies_nr.drop(columns=['movieId','title'])\n",
        "    model=neighbors.NearestNeighbors(n_neighbors=11, metric='cosine')\n",
        "    model.fit(movies_nr)\n",
        "    dist, idlist = model.kneighbors(centroide)\n",
        "    ids=idlist[0] ### queda en un array anidado, para sacarlo\n",
        "    recomend_b=df_movies.loc[ids][['title','movieId']]\n",
        "    leidos=df_movies[df_movies['movieId'].isin(l_movies_r)][['title','movieId']]\n",
        "    return recomend_b\n"
      ]
    },
    {
      "cell_type": "code",
      "source": [
        "##### Generar recomendaciones para usuario lista de usuarios ####\n",
        "def main(list_user):\n",
        "\n",
        "    recomendaciones_todos=pd.DataFrame()\n",
        "    for userId in list_user:\n",
        "\n",
        "        recomendaciones=recomendar(userId)\n",
        "        recomendaciones[\"userId\"]=userId\n",
        "        recomendaciones.reset_index(inplace=True,drop=True)\n",
        "\n",
        "        recomendaciones_todos=pd.concat([recomendaciones_todos, recomendaciones])\n",
        "\n",
        "    recomendaciones_todos.to_excel('/content/drive/MyDrive/Analitica3/Entrega_Marketing/recomendaciones.xlsx')\n",
        "    recomendaciones_todos.to_csv('/content/drive/MyDrive/Analitica3/Entrega_Marketing/recomendaciones.xlsx')\n",
        "\n",
        "\n",
        "if __name__==\"__main__\":\n",
        "    list_user=[590,600,483]\n",
        "    main(list_user)"
      ],
      "metadata": {
        "id": "64ptW1J7DncD"
      },
      "execution_count": 7,
      "outputs": []
    },
    {
      "cell_type": "code",
      "source": [
        "import sys\n",
        "sys.executable"
      ],
      "metadata": {
        "id": "M9EImYlzBOtz",
        "colab": {
          "base_uri": "https://localhost:8080/",
          "height": 36
        },
        "outputId": "55ea80fc-61b0-43f2-ff6b-6e10ca60ecc6"
      },
      "execution_count": 6,
      "outputs": [
        {
          "output_type": "execute_result",
          "data": {
            "text/plain": [
              "'/usr/bin/python3'"
            ],
            "application/vnd.google.colaboratory.intrinsic+json": {
              "type": "string"
            }
          },
          "metadata": {},
          "execution_count": 6
        }
      ]
    }
  ]
}